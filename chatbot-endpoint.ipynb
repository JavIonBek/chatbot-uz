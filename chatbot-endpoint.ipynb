{
  "nbformat": 4,
  "nbformat_minor": 0,
  "metadata": {
    "kernelspec": {
      "display_name": "Python 3",
      "language": "python",
      "name": "python3"
    },
    "language_info": {
      "codemirror_mode": {
        "name": "ipython",
        "version": 3
      },
      "file_extension": ".py",
      "mimetype": "text/x-python",
      "name": "python",
      "nbconvert_exporter": "python",
      "pygments_lexer": "ipython3",
      "version": "3.6.7"
    },
    "colab": {
      "name": "chatbot-endpoint.ipynb",
      "provenance": [],
      "collapsed_sections": [],
      "include_colab_link": true
    },
    "accelerator": "GPU"
  },
  "cells": [
    {
      "cell_type": "markdown",
      "metadata": {
        "id": "view-in-github",
        "colab_type": "text"
      },
      "source": [
        "<a href=\"https://colab.research.google.com/github/JavIonBek/chatbot-uz/blob/main/chatbot-endpoint.ipynb\" target=\"_parent\"><img src=\"https://colab.research.google.com/assets/colab-badge.svg\" alt=\"Open In Colab\"/></a>"
      ]
    },
    {
      "cell_type": "markdown",
      "metadata": {
        "id": "UmhkQ_MjPBDr"
      },
      "source": [
        "# Chatting with chatbot"
      ]
    },
    {
      "cell_type": "code",
      "metadata": {
        "id": "oJ1Auozag0oQ",
        "colab": {
          "base_uri": "https://localhost:8080/"
        },
        "outputId": "2ce57731-a88b-4fe1-98e9-276c70478f72"
      },
      "source": [
        "# to connect to the drive\n",
        "from google.colab import drive\n",
        "drive.mount('/content/drive')"
      ],
      "execution_count": 1,
      "outputs": [
        {
          "output_type": "stream",
          "text": [
            "Mounted at /content/drive\n"
          ],
          "name": "stdout"
        }
      ]
    },
    {
      "cell_type": "markdown",
      "metadata": {
        "id": "2npb47Ki3iGF"
      },
      "source": [
        "## Gathering data\n",
        "Import some libraries and load data to get started!"
      ]
    },
    {
      "cell_type": "code",
      "metadata": {
        "id": "frjH0wNld1sw"
      },
      "source": [
        "# things we need for NLP\n",
        "import nltk\n",
        "from nltk.stem.lancaster import LancasterStemmer\n",
        "stemmer = LancasterStemmer()\n",
        "\n",
        "import tensorflow as tf\n",
        "import pickle\n",
        "import pandas as pd\n",
        "import numpy as np\n",
        "import random"
      ],
      "execution_count": 2,
      "outputs": []
    },
    {
      "cell_type": "code",
      "metadata": {
        "id": "397B9ZZoheNd",
        "colab": {
          "base_uri": "https://localhost:8080/"
        },
        "outputId": "d9d703b0-d41a-4c33-e7eb-cfb39122eb60"
      },
      "source": [
        "import nltk\n",
        "nltk.download('punkt')"
      ],
      "execution_count": 3,
      "outputs": [
        {
          "output_type": "stream",
          "text": [
            "[nltk_data] Downloading package punkt to /root/nltk_data...\n",
            "[nltk_data]   Unzipping tokenizers/punkt.zip.\n"
          ],
          "name": "stdout"
        },
        {
          "output_type": "execute_result",
          "data": {
            "text/plain": [
              "True"
            ]
          },
          "metadata": {
            "tags": []
          },
          "execution_count": 3
        }
      ]
    },
    {
      "cell_type": "code",
      "metadata": {
        "id": "lyYQw1o8d1s4"
      },
      "source": [
        "data = pickle.load(open('/content/drive/MyDrive/Colab Notebooks/chatbot-uz/model/chatbot-data.pkl', 'rb'))\n",
        "words = data['words']\n",
        "classes = data['classes']"
      ],
      "execution_count": 4,
      "outputs": []
    },
    {
      "cell_type": "code",
      "metadata": {
        "id": "1Vejon-Od1tB"
      },
      "source": [
        "def clean_up_sentence(sentence):\n",
        "    # tokenize the pattern\n",
        "    sentence_words = nltk.word_tokenize(sentence)\n",
        "    # stem each word\n",
        "    sentence_words = [stemmer.stem(word.lower()) for word in sentence_words]\n",
        "    return sentence_words\n",
        "\n",
        "# return bag of words array: 0 or 1 for each word in the bag that exists in the sentence\n",
        "def bow(sentence, words, show_details=True):\n",
        "    # tokenize the pattern\n",
        "    sentence_words = clean_up_sentence(sentence)\n",
        "    # bag of words\n",
        "    bag = [0]*len(words)  \n",
        "    for s in sentence_words:\n",
        "        for i,w in enumerate(words):\n",
        "            if w == s: \n",
        "                bag[i] = 1\n",
        "                if show_details:\n",
        "                    print ('found in bag: %s' % w)\n",
        "\n",
        "    return(np.array(bag))"
      ],
      "execution_count": 5,
      "outputs": []
    },
    {
      "cell_type": "code",
      "metadata": {
        "id": "4jTYq5spd1tK",
        "colab": {
          "base_uri": "https://localhost:8080/"
        },
        "outputId": "decfc5df-de34-4e71-d7d8-6a08c912e497"
      },
      "source": [
        "p = bow('Assalomu aleykum, yaxshimisiz', words)\n",
        "print(p)\n",
        "print(classes)"
      ],
      "execution_count": 6,
      "outputs": [
        {
          "output_type": "stream",
          "text": [
            "found in bag: assalomu\n",
            "found in bag: aleyk\n",
            "[0 1 0 1 0 0 0 0 0 0 0 0 0 0 0 0 0 0 0 0 0 0 0 0 0 0 0 0 0 0 0 0 0 0 0 0 0\n",
            " 0 0 0 0 0 0 0 0 0 0 0 0 0 0 0 0 0 0 0 0 0 0 0 0 0 0 0 0 0]\n",
            "['kim_san', 'qonun_buzarlikni_yuklash', 'rahmat', 'rezyume_yuborish', 'salom', 'xayr']\n"
          ],
          "name": "stdout"
        }
      ]
    },
    {
      "cell_type": "code",
      "metadata": {
        "id": "0OfuZLwdsTIN"
      },
      "source": [
        "global graph\n",
        "graph = tf.compat.v1.get_default_graph()"
      ],
      "execution_count": 7,
      "outputs": []
    },
    {
      "cell_type": "markdown",
      "metadata": {
        "id": "fYwKbSqA4odr"
      },
      "source": [
        "## Load the trained model"
      ]
    },
    {
      "cell_type": "code",
      "metadata": {
        "id": "tEFmVsqcT-9x"
      },
      "source": [
        "# For loading the .pkl model\n",
        "# From chatbot-model.ipynb\n",
        "from tensorflow.python.keras.layers import deserialize, serialize\n",
        "from tensorflow.python.keras.saving import saving_utils\n",
        "\n",
        "def unpack(model, training_config, weights):\n",
        "  restored_model = deserialize(model)\n",
        "  if training_config is not None:\n",
        "    restored_model.compile(\n",
        "      **saving_utils.compile_args_from_training_config(\n",
        "          training_config\n",
        "      )\n",
        "    )\n",
        "  restored_model.set_weights(weights)\n",
        "  return restored_model"
      ],
      "execution_count": 8,
      "outputs": []
    },
    {
      "cell_type": "code",
      "metadata": {
        "id": "S_Z-tM-md1tT"
      },
      "source": [
        "with open('/content/drive/MyDrive/Colab Notebooks/chatbot-uz/model/chatbot-model.pkl', 'rb') as f:\n",
        "  model = pickle.load(f)"
      ],
      "execution_count": 9,
      "outputs": []
    },
    {
      "cell_type": "markdown",
      "metadata": {
        "id": "spVUtdj75RmO"
      },
      "source": [
        "## Testing"
      ]
    },
    {
      "cell_type": "code",
      "metadata": {
        "id": "fdISugPfd1tZ"
      },
      "source": [
        "def classify_local(sentence):\n",
        "    ERROR_THRESHOLD = 0.25\n",
        "    \n",
        "    # generate probabilities from the model\n",
        "    input_data = pd.DataFrame([bow(sentence, words)], dtype=float, index=['input'])\n",
        "    results = model.predict([input_data])[0]\n",
        "    # filter out predictions below a threshold, and provide intent index\n",
        "    results = [[i,r] for i,r in enumerate(results) if r>ERROR_THRESHOLD]\n",
        "    # sort by strength of probability\n",
        "    results.sort(key=lambda x: x[1], reverse=True)\n",
        "    return_list = []\n",
        "    for r in results:\n",
        "        return_list.append((classes[r[0]], str(r[1])))\n",
        "    # return tuple of intent and probability\n",
        "    \n",
        "    return return_list"
      ],
      "execution_count": 10,
      "outputs": []
    },
    {
      "cell_type": "code",
      "metadata": {
        "id": "Bjh1_R_sd1te",
        "colab": {
          "base_uri": "https://localhost:8080/"
        },
        "outputId": "df4bef7d-350a-45ff-d262-675096d01cd7"
      },
      "source": [
        "classify_local('Salom, xayrli kun!')"
      ],
      "execution_count": 11,
      "outputs": [
        {
          "output_type": "stream",
          "text": [
            "found in bag: salom\n",
            "found in bag: kun\n"
          ],
          "name": "stdout"
        },
        {
          "output_type": "execute_result",
          "data": {
            "text/plain": [
              "[('salom', '0.99998295')]"
            ]
          },
          "metadata": {
            "tags": []
          },
          "execution_count": 11
        }
      ]
    },
    {
      "cell_type": "code",
      "metadata": {
        "id": "CI7A3gDWd1tj",
        "colab": {
          "base_uri": "https://localhost:8080/"
        },
        "outputId": "5c464875-7579-4402-cace-6320e318fa9f"
      },
      "source": [
        "classify_local('Rahmat!')"
      ],
      "execution_count": 12,
      "outputs": [
        {
          "output_type": "stream",
          "text": [
            "found in bag: rahm\n"
          ],
          "name": "stdout"
        },
        {
          "output_type": "execute_result",
          "data": {
            "text/plain": [
              "[('rahmat', '0.99998724')]"
            ]
          },
          "metadata": {
            "tags": []
          },
          "execution_count": 12
        }
      ]
    },
    {
      "cell_type": "code",
      "metadata": {
        "id": "3tX_x8fUd1tn",
        "colab": {
          "base_uri": "https://localhost:8080/"
        },
        "outputId": "e61c5efc-1702-43ac-ab53-d2fdc06e6323"
      },
      "source": [
        "classify_local('Juda yordami tegdi, rahmat')"
      ],
      "execution_count": 13,
      "outputs": [
        {
          "output_type": "stream",
          "text": [
            "found in bag: yordam\n",
            "found in bag: rahm\n"
          ],
          "name": "stdout"
        },
        {
          "output_type": "execute_result",
          "data": {
            "text/plain": [
              "[('rahmat', '0.9999975')]"
            ]
          },
          "metadata": {
            "tags": []
          },
          "execution_count": 13
        }
      ]
    },
    {
      "cell_type": "code",
      "metadata": {
        "id": "q9ixcGMSd1ts",
        "colab": {
          "base_uri": "https://localhost:8080/"
        },
        "outputId": "4a83e6ab-d2cb-4885-b367-b2a7fecf920a"
      },
      "source": [
        "classify_local('Sog\\' bo\\'ling')"
      ],
      "execution_count": 14,
      "outputs": [
        {
          "output_type": "stream",
          "text": [
            "found in bag: sog\n",
            "found in bag: '\n",
            "found in bag: bo'ling\n"
          ],
          "name": "stdout"
        },
        {
          "output_type": "execute_result",
          "data": {
            "text/plain": [
              "[('xayr', '0.9999963')]"
            ]
          },
          "metadata": {
            "tags": []
          },
          "execution_count": 14
        }
      ]
    },
    {
      "cell_type": "code",
      "metadata": {
        "id": "aVxfm6f_RxDS",
        "colab": {
          "base_uri": "https://localhost:8080/"
        },
        "outputId": "1edb05fe-0691-4299-840e-88135f8d21e8"
      },
      "source": [
        "classify_local('Qalaysiz?')"
      ],
      "execution_count": 15,
      "outputs": [
        {
          "output_type": "stream",
          "text": [
            "found in bag: qalays\n"
          ],
          "name": "stdout"
        },
        {
          "output_type": "execute_result",
          "data": {
            "text/plain": [
              "[('salom', '0.99960786')]"
            ]
          },
          "metadata": {
            "tags": []
          },
          "execution_count": 15
        }
      ]
    },
    {
      "cell_type": "code",
      "metadata": {
        "id": "-BWcQ2s17CRj",
        "colab": {
          "base_uri": "https://localhost:8080/"
        },
        "outputId": "132ebdd1-36bc-445a-8521-93db21fe41f3"
      },
      "source": [
        "classify_local('Салом')"
      ],
      "execution_count": 16,
      "outputs": [
        {
          "output_type": "stream",
          "text": [
            "found in bag: салом\n"
          ],
          "name": "stdout"
        },
        {
          "output_type": "execute_result",
          "data": {
            "text/plain": [
              "[('salom', '0.99978894')]"
            ]
          },
          "metadata": {
            "tags": []
          },
          "execution_count": 16
        }
      ]
    },
    {
      "cell_type": "code",
      "metadata": {
        "id": "8PfoUC9FkXM6",
        "colab": {
          "base_uri": "https://localhost:8080/"
        },
        "outputId": "65f00c61-7205-4db5-ad7d-2d4d7f757e73"
      },
      "source": [
        "classify_local('Qanday qilib qonun buzarlik haqida xabar berish mumkin?')"
      ],
      "execution_count": 17,
      "outputs": [
        {
          "output_type": "stream",
          "text": [
            "found in bag: qanday\n",
            "found in bag: qilib\n",
            "found in bag: qonun\n",
            "found in bag: buzarlik\n",
            "found in bag: haqid\n",
            "found in bag: xab\n"
          ],
          "name": "stdout"
        },
        {
          "output_type": "execute_result",
          "data": {
            "text/plain": [
              "[('qonun_buzarlikni_yuklash', '1.0')]"
            ]
          },
          "metadata": {
            "tags": []
          },
          "execution_count": 17
        }
      ]
    },
    {
      "cell_type": "markdown",
      "metadata": {
        "id": "mvbZAFzfUupa"
      },
      "source": [
        "## Chatting"
      ]
    },
    {
      "cell_type": "code",
      "metadata": {
        "id": "TyACQvtGmvpC"
      },
      "source": [
        "# import our chat-bot intents file\n",
        "import json\n",
        "with open('/content/drive/MyDrive/Colab Notebooks/chatbot-uz/data/intents.json') as json_data:\n",
        "    intents = json.load(json_data)"
      ],
      "execution_count": 18,
      "outputs": []
    },
    {
      "cell_type": "code",
      "metadata": {
        "id": "eJkgAKtVlGKU",
        "colab": {
          "base_uri": "https://localhost:8080/"
        },
        "outputId": "c7bbdce6-3a3d-4fce-9dd9-c507381aed6c"
      },
      "source": [
        "print(intents['intents'])"
      ],
      "execution_count": 19,
      "outputs": [
        {
          "output_type": "stream",
          "text": [
            "[{'tag': 'salom', 'patterns': ['Salom', 'Assalomu aleykum', 'Qalaysiz', 'Assalom', 'Hayrli kun', 'Салом', 'Aссалому алейкум', 'Aссалом'], 'responses': ['Sizga xursandman :) Nima bilan yordam berishim mumkin?', 'Assalomu aleykum, web saytimizga xush kelibsiz. Qanday yordam bera olaman?', 'Assalomu aleykum, qanday yordam bera olaman?'], 'context': ['']}, {'tag': 'xayr', 'patterns': ['Xayr', \"Ko'rishguncha\", \"Sog' bo'ling\", 'Хайр', 'Кўришгунча', 'Соғ бўлинг'], 'responses': [\"Omad tilayman! Yana uchrashishdan xursand bo'laman.\", \"Sog' bo'ling, ko'rishguncha :)\", \"Kuningiz yaxshi o'tsin.\", 'Xayr! Tashrifingizdan xursandmiz.'], 'context': ['']}, {'tag': 'rahmat', 'patterns': ['Rahmat', 'Raxmat', 'Kattakon rahmat', 'Yordamingiz uchun rahmat', 'Раҳмат', 'Рахмат', 'Каттакон раҳмат', 'Ёрдамингиз учун раҳмат'], 'responses': ['Men foydali bo`lishga harakat qilyapman.', 'Yordam berganimdan xursandman!', 'Arzimaydi.'], 'context': ['']}, {'tag': 'kim_san', 'patterns': ['Kim san?', 'Nima san?', 'Isming nima?', 'Ким сан?', 'Нима сан?', 'Исминг нима?'], 'responses': [\"Men ushbu saytning sun'iy aqlga ega operatoriman.\"], 'context': ['']}, {'tag': 'qonun_buzarlikni_yuklash', 'patterns': [\"Qanday qilib qonun buzarlik haqida ma'lumot xabar qilsam bo'ladi?\", \"Saytdan qanday qilib qonun buzarlik haqida ma'lumot yuklasam bo'ladi?\", 'qonun buzarlik', 'Қандай қилиб қонун бузарлик ҳақида маълумот хабар қилсам бўлади?', 'Сайтдан қандай қилиб қонун бузарлик ҳақида маълумот юкласам бўлади?', 'қонун бузарлик'], 'responses': [\"Saytning Qonun buzarliklar sahifasiga o'tib, tegishli ma'lumotlarni kiritib, ma'limot yuklashingiz mumkin.\"], 'context': ['']}, {'tag': 'rezyume_yuborish', 'patterns': [\"Qanday qilib rezyume yuborsam bo'ladi?\", 'rezyume yuborish', \"Qanday rezyume yuborsam bo'ladi?\", 'Қандай қилиб резюме юборсам бўлади?', 'резюме юбориш', 'Қандай резюме юборсам бўлади?'], 'responses': [\"Saytning Rezyume yuborish sahifasiga o'tib, kerakli ma'lumotlarni kiritish orqali rezyumengizni yuborishingiz mumkin.\"], 'context': ['']}]\n"
          ],
          "name": "stdout"
        }
      ]
    },
    {
      "cell_type": "code",
      "metadata": {
        "id": "xQEbvN9OTjza",
        "colab": {
          "base_uri": "https://localhost:8080/"
        },
        "outputId": "d30630ff-f7f6-4592-e3e2-a134160100da"
      },
      "source": [
        "def chat():\n",
        "  print('Chat boshlandi!')\n",
        "  while True:\n",
        "    inp = input('Siz: ')\n",
        "    if inp.lower() == 'stop':\n",
        "      break\n",
        "    \n",
        "    inp = pd.DataFrame([bow(inp, words, show_details=False)], dtype=float, index=['input'])\n",
        "    results = model.predict([inp])[0]\n",
        "    results_index = np.argmax(results)\n",
        "    tag = classes[results_index]\n",
        "\n",
        "    if results[results_index] > 0.8:\n",
        "      for tg in intents['intents']:\n",
        "        if tg['tag'] == tag:\n",
        "          responses = tg['responses']\n",
        "          print('Bot:', random.choice(responses))\n",
        "    else:\n",
        "      print('Bot: Kechirasiz, ehtimol men Sizni noto`g`ri tushundim. Iltimos, savolni boshqacha bering va men javob berishga harakat qilaman.')\n",
        "      # Afsuski, Sizga yordam bera olmadim. Mutaxassis bilan bog’lanishni istaysizmi?\\n1. Ha\\n2. Yo'q\n",
        "\n",
        "chat()"
      ],
      "execution_count": 24,
      "outputs": [
        {
          "output_type": "stream",
          "text": [
            "Chat boshlandi!\n",
            "Siz: Salom\n",
            "Bot: Assalomu aleykum, web saytimizga xush kelibsiz. Qanday yordam bera olaman?\n",
            "Siz: Qanday qilib qunun buzarlik haqida xabar berish mumkin?\n",
            "Bot: Saytning Qonun buzarliklar sahifasiga o'tib, tegishli ma'lumotlarni kiritib, ma'limot yuklashingiz mumkin.\n",
            "Siz: rahmat\n",
            "Bot: Yordam berganimdan xursandman!\n",
            "Siz: xayr\n",
            "Bot: Xayr! Tashrifingizdan xursandmiz.\n",
            "Siz: Assalomu aleykum\n",
            "Bot: Assalomu aleykum, qanday yordam bera olaman?\n",
            "Siz: dsfjsdhfliefsdfsd\n",
            "Bot: Kechirasiz, ehtimol men Sizni noto`g`ri tushundim. Iltimos, savolni boshqacha bering va men javob berishga harakat qilaman.\n",
            "Siz: 4395643jhjhlkjdshgksdg\n",
            "Bot: Kechirasiz, ehtimol men Sizni noto`g`ri tushundim. Iltimos, savolni boshqacha bering va men javob berishga harakat qilaman.\n",
            "Siz: rahmat\n",
            "Bot: Yordam berganimdan xursandman!\n",
            "Siz: xayr\n",
            "Bot: Xayr! Tashrifingizdan xursandmiz.\n",
            "Siz: stop\n"
          ],
          "name": "stdout"
        }
      ]
    },
    {
      "cell_type": "code",
      "metadata": {
        "id": "aWga2jzMMW7O"
      },
      "source": [
        ""
      ],
      "execution_count": 24,
      "outputs": []
    }
  ]
}