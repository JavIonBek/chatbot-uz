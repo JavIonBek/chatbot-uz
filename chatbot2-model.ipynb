{
  "nbformat": 4,
  "nbformat_minor": 0,
  "metadata": {
    "kernelspec": {
      "display_name": "Python 3",
      "language": "python",
      "name": "python3"
    },
    "language_info": {
      "codemirror_mode": {
        "name": "ipython",
        "version": 3
      },
      "file_extension": ".py",
      "mimetype": "text/x-python",
      "name": "python",
      "nbconvert_exporter": "python",
      "pygments_lexer": "ipython3",
      "version": "3.6.7"
    },
    "colab": {
      "name": "chatbot2-model.ipynb",
      "provenance": [],
      "collapsed_sections": [],
      "include_colab_link": true
    },
    "accelerator": "GPU"
  },
  "cells": [
    {
      "cell_type": "markdown",
      "metadata": {
        "id": "view-in-github",
        "colab_type": "text"
      },
      "source": [
        "<a href=\"https://colab.research.google.com/github/JavIonBek/chatbot-uz/blob/main/chatbot2-model.ipynb\" target=\"_parent\"><img src=\"https://colab.research.google.com/assets/colab-badge.svg\" alt=\"Open In Colab\"/></a>"
      ]
    },
    {
      "cell_type": "markdown",
      "metadata": {
        "id": "CUbw5GYKOdtk"
      },
      "source": [
        "# Chatbot model\n",
        "Creating a chatbot model"
      ]
    },
    {
      "cell_type": "code",
      "metadata": {
        "id": "_IJw7HN4d7oP",
        "colab": {
          "base_uri": "https://localhost:8080/"
        },
        "outputId": "aed3414d-669b-48df-e2a9-16ec29dc2d92"
      },
      "source": [
        "# to connect to the drive\n",
        "from google.colab import drive\n",
        "drive.mount('/content/drive')"
      ],
      "execution_count": null,
      "outputs": [
        {
          "output_type": "stream",
          "text": [
            "Mounted at /content/drive\n"
          ],
          "name": "stdout"
        }
      ]
    },
    {
      "cell_type": "markdown",
      "metadata": {
        "id": "qmwXlmBsz0VK"
      },
      "source": [
        "## Gathering data\n",
        "Let's import some libraries and load data to get started!"
      ]
    },
    {
      "cell_type": "code",
      "metadata": {
        "id": "eV9nvlcWuI0u"
      },
      "source": [
        "# things we need for NLP\n",
        "import nltk\n",
        "from nltk.stem.lancaster import LancasterStemmer\n",
        "stemmer = LancasterStemmer()\n",
        "\n",
        "# things we need for Tensorflow\n",
        "from keras.models import Sequential\n",
        "from keras.layers import Dense, Activation, Dropout\n",
        "from keras.optimizers import SGD\n",
        "import numpy as np\n",
        "import pandas as pd\n",
        "import pickle\n",
        "import random"
      ],
      "execution_count": null,
      "outputs": []
    },
    {
      "cell_type": "code",
      "metadata": {
        "id": "H8owFF87eucS",
        "colab": {
          "base_uri": "https://localhost:8080/"
        },
        "outputId": "afa5e1a2-afc0-4c7c-e210-64bc44751b9d"
      },
      "source": [
        "import nltk\n",
        "nltk.download('punkt')"
      ],
      "execution_count": null,
      "outputs": [
        {
          "output_type": "stream",
          "text": [
            "[nltk_data] Downloading package punkt to /root/nltk_data...\n",
            "[nltk_data]   Unzipping tokenizers/punkt.zip.\n"
          ],
          "name": "stdout"
        },
        {
          "output_type": "execute_result",
          "data": {
            "text/plain": [
              "True"
            ]
          },
          "metadata": {
            "tags": []
          },
          "execution_count": 3
        }
      ]
    },
    {
      "cell_type": "code",
      "metadata": {
        "id": "E-uE-KYIugyN",
        "colab": {
          "base_uri": "https://localhost:8080/"
        },
        "outputId": "285b0d81-18b4-4dd8-ba10-81c46cded46e"
      },
      "source": [
        "import tensorflow as tf\n",
        "import keras\n",
        "print(keras.__version__)\n",
        "print(tf.__version__)\n",
        "print(nltk.__version__)"
      ],
      "execution_count": null,
      "outputs": [
        {
          "output_type": "stream",
          "text": [
            "2.4.3\n",
            "2.4.1\n",
            "3.2.5\n"
          ],
          "name": "stdout"
        }
      ]
    },
    {
      "cell_type": "code",
      "metadata": {
        "id": "7nxqU1iPuI01"
      },
      "source": [
        "# import our chat-bot intents file\n",
        "import json\n",
        "with open('/content/drive/MyDrive/Colab Notebooks/chatbot-uz/data/intents.json') as json_data:\n",
        "    intents = json.load(json_data)"
      ],
      "execution_count": null,
      "outputs": []
    },
    {
      "cell_type": "code",
      "metadata": {
        "id": "IH4PsD_7uI07",
        "colab": {
          "base_uri": "https://localhost:8080/"
        },
        "outputId": "3b622dfa-1dd4-4064-839f-2dcdc807eea8"
      },
      "source": [
        "words = []\n",
        "classes = []\n",
        "documents = []\n",
        "ignore_words = ['?']\n",
        "# loop through each sentence in our intents patterns\n",
        "for intent in intents['intents']:\n",
        "    for pattern in intent['patterns']:\n",
        "        # tokenize each word in the sentence\n",
        "        w = nltk.word_tokenize(pattern)\n",
        "        # add to our words list\n",
        "        words.extend(w)\n",
        "        # add to documents in our corpus\n",
        "        documents.append((w, intent['tag']))\n",
        "        # add to our classes list\n",
        "        if intent['tag'] not in classes:\n",
        "            classes.append(intent['tag'])\n",
        "\n",
        "# stem and lower each word and remove duplicates\n",
        "words = [stemmer.stem(w.lower()) for w in words if w not in ignore_words]\n",
        "words = sorted(list(set(words)))\n",
        "\n",
        "# sort classes\n",
        "classes = sorted(list(set(classes)))\n",
        "\n",
        "# documents = combination between patterns and intents\n",
        "print(len(documents), 'documents')\n",
        "# classes = intents\n",
        "print(len(classes), 'classes', classes)\n",
        "# words = all words, vocabulary\n",
        "print(len(words), 'unique stemmed words', words)"
      ],
      "execution_count": null,
      "outputs": [
        {
          "output_type": "stream",
          "text": [
            "40 documents\n",
            "6 classes ['kim_san', 'qonun_buzarlikni_yuklash', 'rahmat', 'rezyume_yuborish', 'salom', 'xayr']\n",
            "66 unique stemmed words [\"'\", 'aleyk', 'assalom', 'assalomu', 'aссалом', 'aссалому', \"bo'ladi\", \"bo'ling\", 'buzarlik', 'haqid', 'hayrl', 'ism', 'kattakon', 'kim', \"ko'rishguncha\", 'kun', \"ma'lumot\", 'nim', 'qalays', 'qanday', 'qilib', 'qilsam', 'qonun', 'rahm', 'raxm', 'rezyum', 'salom', 'san', 'saytd', 'sog', 'uchun', 'xab', 'xayr', 'yordam', 'yub', 'yuborsam', 'yuklasam', 'алейкум', 'бузарлик', 'бўлади', 'бўлинг', 'исминг', 'каттакон', 'ким', 'кўришгунча', 'маълумот', 'нима', 'рахмат', 'раҳмат', 'резюме', 'сайтдан', 'салом', 'сан', 'соғ', 'учун', 'хабар', 'хайр', 'юбориш', 'юборсам', 'юкласам', 'ёрдамингиз', 'қандай', 'қилиб', 'қилсам', 'қонун', 'ҳақида']\n"
          ],
          "name": "stdout"
        }
      ]
    },
    {
      "cell_type": "code",
      "metadata": {
        "id": "wo9BdQiCuI0_"
      },
      "source": [
        "# create our training data\n",
        "training = []\n",
        "# create an empty array for our output\n",
        "output_empty = [0] * len(classes)\n",
        "\n",
        "# training set, bag of words for each sentence\n",
        "for doc in documents:\n",
        "    # initialize our bag of words\n",
        "    bag = []\n",
        "    # list of tokenized words for the pattern\n",
        "    pattern_words = doc[0]\n",
        "    # stem each word - create base word, in attempt to represent related words\n",
        "    pattern_words = [stemmer.stem(word.lower()) for word in pattern_words]\n",
        "    # create our bag of words array with 1, if word match found in current pattern\n",
        "    for w in words:\n",
        "        bag.append(1) if w in pattern_words else bag.append(0)\n",
        "    \n",
        "    # output is a '0' for each tag and '1' for current tag (for each pattern)\n",
        "    output_row = list(output_empty)\n",
        "    output_row[classes.index(doc[1])] = 1\n",
        "    \n",
        "    training.append([bag, output_row])\n",
        "\n",
        "# shuffle our features and turn into np.array\n",
        "random.shuffle(training)\n",
        "training = np.array(training, dtype=object)\n",
        "\n",
        "# create train and test lists. X - patterns, Y - intents\n",
        "train_x = list(training[:,0])\n",
        "train_y = list(training[:,1])"
      ],
      "execution_count": null,
      "outputs": []
    },
    {
      "cell_type": "markdown",
      "metadata": {
        "id": "mYaYwO7Y0mJt"
      },
      "source": [
        "## Choose a model"
      ]
    },
    {
      "cell_type": "markdown",
      "metadata": {
        "id": "Qag4SipNOMap"
      },
      "source": [
        "### To save the trained keras model in a pickle file\n",
        "https://github.com/tensorflow/tensorflow/issues/34697#issuecomment-627193883"
      ]
    },
    {
      "cell_type": "code",
      "metadata": {
        "id": "2DYqO1L9L0_K"
      },
      "source": [
        "# To save the trained keras model in a pickle file\n",
        "\n",
        "from tensorflow.keras.models import Model\n",
        "from tensorflow.python.keras.layers import deserialize, serialize\n",
        "from tensorflow.python.keras.saving import saving_utils\n",
        "\n",
        "\n",
        "def unpack(model, training_config, weights):\n",
        "  restored_model = deserialize(model)\n",
        "  if training_config is not None:\n",
        "    restored_model.compile(\n",
        "      **saving_utils.compile_args_from_training_config(\n",
        "          training_config\n",
        "      )\n",
        "    )\n",
        "  restored_model.set_weights(weights)\n",
        "  return restored_model\n",
        "\n",
        "# Hotfix function\n",
        "def make_keras_picklable():\n",
        "\n",
        "  def __reduce__(self):\n",
        "    model_metadata = saving_utils.model_metadata(self)\n",
        "    training_config = model_metadata.get('training_config', None)\n",
        "    model = serialize(self)\n",
        "    weights = self.get_weights()\n",
        "    return (unpack, (model, training_config, weights))\n",
        "\n",
        "  cls = Model\n",
        "  cls.__reduce__ = __reduce__\n",
        "\n",
        "# Run the function\n",
        "make_keras_picklable()"
      ],
      "execution_count": null,
      "outputs": []
    },
    {
      "cell_type": "code",
      "metadata": {
        "id": "p7lHeVzFuI1D"
      },
      "source": [
        "# Create model - 3 layers. First layer 128 neurons, second layer 64 neurons and 3rd output layer contains number of neurons\n",
        "# equal to number of intents to predict output intent with softmax\n",
        "model = Sequential()\n",
        "model.add(Dense(128, input_shape=(len(train_x[0]),), activation='relu'))  # None not\n",
        "model.add(Dropout(0.5))\n",
        "model.add(Dense(64, activation='relu'))\n",
        "model.add(Dropout(0.5))\n",
        "model.add(Dense(len(train_y[0]), activation='softmax'))"
      ],
      "execution_count": null,
      "outputs": []
    },
    {
      "cell_type": "code",
      "metadata": {
        "id": "VG0OKcHOuI1L"
      },
      "source": [
        "# Compile model. Stochastic gradient descent with Nesterov accelerated gradient gives good results for this model\n",
        "sgd = SGD(lr=0.01, decay=1e-6, momentum=0.9, nesterov=True)\n",
        "model.compile(loss='categorical_crossentropy', optimizer=sgd, metrics=['accuracy'])"
      ],
      "execution_count": null,
      "outputs": []
    },
    {
      "cell_type": "code",
      "metadata": {
        "id": "qfGE1ZWyA-E-",
        "colab": {
          "base_uri": "https://localhost:8080/"
        },
        "outputId": "c3f895da-5e4b-4bb2-b75b-38c8c5ee143c"
      },
      "source": [
        "model.summary()"
      ],
      "execution_count": null,
      "outputs": [
        {
          "output_type": "stream",
          "text": [
            "Model: \"sequential\"\n",
            "_________________________________________________________________\n",
            "Layer (type)                 Output Shape              Param #   \n",
            "=================================================================\n",
            "dense (Dense)                (None, 128)               8576      \n",
            "_________________________________________________________________\n",
            "dropout (Dropout)            (None, 128)               0         \n",
            "_________________________________________________________________\n",
            "dense_1 (Dense)              (None, 64)                8256      \n",
            "_________________________________________________________________\n",
            "dropout_1 (Dropout)          (None, 64)                0         \n",
            "_________________________________________________________________\n",
            "dense_2 (Dense)              (None, 6)                 390       \n",
            "=================================================================\n",
            "Total params: 17,222\n",
            "Trainable params: 17,222\n",
            "Non-trainable params: 0\n",
            "_________________________________________________________________\n"
          ],
          "name": "stdout"
        }
      ]
    },
    {
      "cell_type": "markdown",
      "metadata": {
        "id": "uileA4S504vz"
      },
      "source": [
        "## Training"
      ]
    },
    {
      "cell_type": "code",
      "metadata": {
        "id": "zV-j3fSnuI1P",
        "colab": {
          "base_uri": "https://localhost:8080/"
        },
        "outputId": "61775190-c4ad-4744-e64e-c6b011b950cb"
      },
      "source": [
        "# Fit the model\n",
        "model.fit(np.array(train_x), np.array(train_y), epochs=200, batch_size=5, verbose=1)"
      ],
      "execution_count": null,
      "outputs": [
        {
          "output_type": "stream",
          "text": [
            "Epoch 1/200\n",
            "8/8 [==============================] - 3s 3ms/step - loss: 1.8039 - accuracy: 0.1852\n",
            "Epoch 2/200\n",
            "8/8 [==============================] - 0s 3ms/step - loss: 1.7814 - accuracy: 0.2587\n",
            "Epoch 3/200\n",
            "8/8 [==============================] - 0s 2ms/step - loss: 1.7288 - accuracy: 0.3471\n",
            "Epoch 4/200\n",
            "8/8 [==============================] - 0s 2ms/step - loss: 1.6116 - accuracy: 0.3950\n",
            "Epoch 5/200\n",
            "8/8 [==============================] - 0s 2ms/step - loss: 1.6449 - accuracy: 0.3878\n",
            "Epoch 6/200\n",
            "8/8 [==============================] - 0s 2ms/step - loss: 1.5665 - accuracy: 0.4465\n",
            "Epoch 7/200\n",
            "8/8 [==============================] - 0s 2ms/step - loss: 1.4514 - accuracy: 0.6899\n",
            "Epoch 8/200\n",
            "8/8 [==============================] - 0s 2ms/step - loss: 1.4138 - accuracy: 0.6515\n",
            "Epoch 9/200\n",
            "8/8 [==============================] - 0s 3ms/step - loss: 1.3151 - accuracy: 0.5616\n",
            "Epoch 10/200\n",
            "8/8 [==============================] - 0s 2ms/step - loss: 1.3627 - accuracy: 0.5516\n",
            "Epoch 11/200\n",
            "8/8 [==============================] - 0s 2ms/step - loss: 1.1264 - accuracy: 0.7725\n",
            "Epoch 12/200\n",
            "8/8 [==============================] - 0s 2ms/step - loss: 1.1287 - accuracy: 0.7844\n",
            "Epoch 13/200\n",
            "8/8 [==============================] - 0s 2ms/step - loss: 1.0169 - accuracy: 0.7460\n",
            "Epoch 14/200\n",
            "8/8 [==============================] - 0s 3ms/step - loss: 0.9225 - accuracy: 0.7434\n",
            "Epoch 15/200\n",
            "8/8 [==============================] - 0s 2ms/step - loss: 0.6910 - accuracy: 0.9197\n",
            "Epoch 16/200\n",
            "8/8 [==============================] - 0s 3ms/step - loss: 0.7376 - accuracy: 0.8674\n",
            "Epoch 17/200\n",
            "8/8 [==============================] - 0s 2ms/step - loss: 0.8391 - accuracy: 0.6983\n",
            "Epoch 18/200\n",
            "8/8 [==============================] - 0s 3ms/step - loss: 0.6221 - accuracy: 0.9112\n",
            "Epoch 19/200\n",
            "8/8 [==============================] - 0s 3ms/step - loss: 0.5419 - accuracy: 0.9157\n",
            "Epoch 20/200\n",
            "8/8 [==============================] - 0s 3ms/step - loss: 0.6485 - accuracy: 0.8169\n",
            "Epoch 21/200\n",
            "8/8 [==============================] - 0s 2ms/step - loss: 0.4270 - accuracy: 0.9348\n",
            "Epoch 22/200\n",
            "8/8 [==============================] - 0s 2ms/step - loss: 0.4054 - accuracy: 0.9702\n",
            "Epoch 23/200\n",
            "8/8 [==============================] - 0s 3ms/step - loss: 0.5302 - accuracy: 0.8423\n",
            "Epoch 24/200\n",
            "8/8 [==============================] - 0s 2ms/step - loss: 0.3770 - accuracy: 0.9279\n",
            "Epoch 25/200\n",
            "8/8 [==============================] - 0s 2ms/step - loss: 0.3854 - accuracy: 0.9577\n",
            "Epoch 26/200\n",
            "8/8 [==============================] - 0s 2ms/step - loss: 0.2542 - accuracy: 0.9707\n",
            "Epoch 27/200\n",
            "8/8 [==============================] - 0s 2ms/step - loss: 0.2891 - accuracy: 1.0000\n",
            "Epoch 28/200\n",
            "8/8 [==============================] - 0s 3ms/step - loss: 0.4063 - accuracy: 0.9702\n",
            "Epoch 29/200\n",
            "8/8 [==============================] - 0s 3ms/step - loss: 0.3027 - accuracy: 0.9707\n",
            "Epoch 30/200\n",
            "8/8 [==============================] - 0s 3ms/step - loss: 0.1176 - accuracy: 1.0000\n",
            "Epoch 31/200\n",
            "8/8 [==============================] - 0s 2ms/step - loss: 0.3786 - accuracy: 0.8946\n",
            "Epoch 32/200\n",
            "8/8 [==============================] - 0s 3ms/step - loss: 0.2287 - accuracy: 0.9788\n",
            "Epoch 33/200\n",
            "8/8 [==============================] - 0s 3ms/step - loss: 0.1926 - accuracy: 0.9944\n",
            "Epoch 34/200\n",
            "8/8 [==============================] - 0s 2ms/step - loss: 0.1814 - accuracy: 0.9913\n",
            "Epoch 35/200\n",
            "8/8 [==============================] - 0s 2ms/step - loss: 0.1604 - accuracy: 0.9820\n",
            "Epoch 36/200\n",
            "8/8 [==============================] - 0s 2ms/step - loss: 0.2443 - accuracy: 0.9368\n",
            "Epoch 37/200\n",
            "8/8 [==============================] - 0s 2ms/step - loss: 0.1391 - accuracy: 0.9913\n",
            "Epoch 38/200\n",
            "8/8 [==============================] - 0s 4ms/step - loss: 0.1339 - accuracy: 0.9944\n",
            "Epoch 39/200\n",
            "8/8 [==============================] - 0s 2ms/step - loss: 0.0914 - accuracy: 0.9913\n",
            "Epoch 40/200\n",
            "8/8 [==============================] - 0s 2ms/step - loss: 0.1580 - accuracy: 0.9688\n",
            "Epoch 41/200\n",
            "8/8 [==============================] - 0s 2ms/step - loss: 0.1717 - accuracy: 0.9913\n",
            "Epoch 42/200\n",
            "8/8 [==============================] - 0s 3ms/step - loss: 0.0848 - accuracy: 0.9944\n",
            "Epoch 43/200\n",
            "8/8 [==============================] - 0s 3ms/step - loss: 0.0618 - accuracy: 0.9876\n",
            "Epoch 44/200\n",
            "8/8 [==============================] - 0s 2ms/step - loss: 0.1408 - accuracy: 0.9831\n",
            "Epoch 45/200\n",
            "8/8 [==============================] - 0s 3ms/step - loss: 0.0400 - accuracy: 1.0000\n",
            "Epoch 46/200\n",
            "8/8 [==============================] - 0s 2ms/step - loss: 0.1016 - accuracy: 0.9913\n",
            "Epoch 47/200\n",
            "8/8 [==============================] - 0s 2ms/step - loss: 0.0915 - accuracy: 1.0000\n",
            "Epoch 48/200\n",
            "8/8 [==============================] - 0s 3ms/step - loss: 0.0758 - accuracy: 1.0000\n",
            "Epoch 49/200\n",
            "8/8 [==============================] - 0s 2ms/step - loss: 0.0844 - accuracy: 1.0000\n",
            "Epoch 50/200\n",
            "8/8 [==============================] - 0s 2ms/step - loss: 0.0507 - accuracy: 1.0000\n",
            "Epoch 51/200\n",
            "8/8 [==============================] - 0s 3ms/step - loss: 0.1338 - accuracy: 0.9662\n",
            "Epoch 52/200\n",
            "8/8 [==============================] - 0s 2ms/step - loss: 0.0463 - accuracy: 1.0000\n",
            "Epoch 53/200\n",
            "8/8 [==============================] - 0s 2ms/step - loss: 0.0284 - accuracy: 1.0000\n",
            "Epoch 54/200\n",
            "8/8 [==============================] - 0s 2ms/step - loss: 0.0768 - accuracy: 1.0000\n",
            "Epoch 55/200\n",
            "8/8 [==============================] - 0s 2ms/step - loss: 0.1025 - accuracy: 0.9590\n",
            "Epoch 56/200\n",
            "8/8 [==============================] - 0s 2ms/step - loss: 0.0979 - accuracy: 1.0000\n",
            "Epoch 57/200\n",
            "8/8 [==============================] - 0s 2ms/step - loss: 0.1198 - accuracy: 0.9820\n",
            "Epoch 58/200\n",
            "8/8 [==============================] - 0s 2ms/step - loss: 0.0591 - accuracy: 1.0000\n",
            "Epoch 59/200\n",
            "8/8 [==============================] - 0s 2ms/step - loss: 0.0617 - accuracy: 1.0000\n",
            "Epoch 60/200\n",
            "8/8 [==============================] - 0s 3ms/step - loss: 0.1544 - accuracy: 0.9422\n",
            "Epoch 61/200\n",
            "8/8 [==============================] - 0s 2ms/step - loss: 0.0504 - accuracy: 1.0000\n",
            "Epoch 62/200\n",
            "8/8 [==============================] - 0s 2ms/step - loss: 0.0504 - accuracy: 1.0000\n",
            "Epoch 63/200\n",
            "8/8 [==============================] - 0s 2ms/step - loss: 0.0308 - accuracy: 1.0000\n",
            "Epoch 64/200\n",
            "8/8 [==============================] - 0s 3ms/step - loss: 0.0131 - accuracy: 1.0000\n",
            "Epoch 65/200\n",
            "8/8 [==============================] - 0s 2ms/step - loss: 0.0368 - accuracy: 1.0000\n",
            "Epoch 66/200\n",
            "8/8 [==============================] - 0s 2ms/step - loss: 0.0756 - accuracy: 0.9614\n",
            "Epoch 67/200\n",
            "8/8 [==============================] - 0s 3ms/step - loss: 0.0371 - accuracy: 1.0000\n",
            "Epoch 68/200\n",
            "8/8 [==============================] - 0s 2ms/step - loss: 0.0449 - accuracy: 0.9913\n",
            "Epoch 69/200\n",
            "8/8 [==============================] - 0s 3ms/step - loss: 0.0223 - accuracy: 1.0000\n",
            "Epoch 70/200\n",
            "8/8 [==============================] - 0s 2ms/step - loss: 0.0329 - accuracy: 1.0000\n",
            "Epoch 71/200\n",
            "8/8 [==============================] - 0s 3ms/step - loss: 0.0214 - accuracy: 1.0000\n",
            "Epoch 72/200\n",
            "8/8 [==============================] - 0s 2ms/step - loss: 0.0837 - accuracy: 1.0000\n",
            "Epoch 73/200\n",
            "8/8 [==============================] - 0s 2ms/step - loss: 0.1149 - accuracy: 0.9368\n",
            "Epoch 74/200\n",
            "8/8 [==============================] - 0s 3ms/step - loss: 0.0336 - accuracy: 1.0000\n",
            "Epoch 75/200\n",
            "8/8 [==============================] - 0s 2ms/step - loss: 0.0349 - accuracy: 1.0000\n",
            "Epoch 76/200\n",
            "8/8 [==============================] - 0s 3ms/step - loss: 0.0370 - accuracy: 1.0000\n",
            "Epoch 77/200\n",
            "8/8 [==============================] - 0s 2ms/step - loss: 0.0450 - accuracy: 1.0000\n",
            "Epoch 78/200\n",
            "8/8 [==============================] - 0s 2ms/step - loss: 0.0667 - accuracy: 0.9876\n",
            "Epoch 79/200\n",
            "8/8 [==============================] - 0s 2ms/step - loss: 0.0320 - accuracy: 1.0000\n",
            "Epoch 80/200\n",
            "8/8 [==============================] - 0s 2ms/step - loss: 0.0498 - accuracy: 0.9876\n",
            "Epoch 81/200\n",
            "8/8 [==============================] - 0s 3ms/step - loss: 0.0193 - accuracy: 1.0000\n",
            "Epoch 82/200\n",
            "8/8 [==============================] - 0s 2ms/step - loss: 0.0631 - accuracy: 1.0000\n",
            "Epoch 83/200\n",
            "8/8 [==============================] - 0s 2ms/step - loss: 0.1072 - accuracy: 0.9776\n",
            "Epoch 84/200\n",
            "8/8 [==============================] - 0s 3ms/step - loss: 0.0137 - accuracy: 1.0000\n",
            "Epoch 85/200\n",
            "8/8 [==============================] - 0s 3ms/step - loss: 0.0338 - accuracy: 1.0000\n",
            "Epoch 86/200\n",
            "8/8 [==============================] - 0s 2ms/step - loss: 0.0375 - accuracy: 1.0000\n",
            "Epoch 87/200\n",
            "8/8 [==============================] - 0s 3ms/step - loss: 0.0229 - accuracy: 1.0000\n",
            "Epoch 88/200\n",
            "8/8 [==============================] - 0s 3ms/step - loss: 0.0132 - accuracy: 1.0000\n",
            "Epoch 89/200\n",
            "8/8 [==============================] - 0s 3ms/step - loss: 0.0310 - accuracy: 0.9944\n",
            "Epoch 90/200\n",
            "8/8 [==============================] - 0s 2ms/step - loss: 0.0723 - accuracy: 0.9702\n",
            "Epoch 91/200\n",
            "8/8 [==============================] - 0s 2ms/step - loss: 0.0197 - accuracy: 1.0000\n",
            "Epoch 92/200\n",
            "8/8 [==============================] - 0s 2ms/step - loss: 0.0109 - accuracy: 1.0000\n",
            "Epoch 93/200\n",
            "8/8 [==============================] - 0s 2ms/step - loss: 0.0460 - accuracy: 1.0000\n",
            "Epoch 94/200\n",
            "8/8 [==============================] - 0s 3ms/step - loss: 0.0617 - accuracy: 0.9876\n",
            "Epoch 95/200\n",
            "8/8 [==============================] - 0s 2ms/step - loss: 0.0241 - accuracy: 1.0000\n",
            "Epoch 96/200\n",
            "8/8 [==============================] - 0s 3ms/step - loss: 0.0499 - accuracy: 1.0000\n",
            "Epoch 97/200\n",
            "8/8 [==============================] - 0s 3ms/step - loss: 0.0615 - accuracy: 0.9702\n",
            "Epoch 98/200\n",
            "8/8 [==============================] - 0s 2ms/step - loss: 0.0669 - accuracy: 0.9776\n",
            "Epoch 99/200\n",
            "8/8 [==============================] - 0s 2ms/step - loss: 0.0062 - accuracy: 1.0000\n",
            "Epoch 100/200\n",
            "8/8 [==============================] - 0s 3ms/step - loss: 0.0417 - accuracy: 1.0000\n",
            "Epoch 101/200\n",
            "8/8 [==============================] - 0s 2ms/step - loss: 0.0359 - accuracy: 1.0000\n",
            "Epoch 102/200\n",
            "8/8 [==============================] - 0s 2ms/step - loss: 0.0157 - accuracy: 1.0000\n",
            "Epoch 103/200\n",
            "8/8 [==============================] - 0s 2ms/step - loss: 0.0729 - accuracy: 0.9913\n",
            "Epoch 104/200\n",
            "8/8 [==============================] - 0s 2ms/step - loss: 0.0350 - accuracy: 1.0000\n",
            "Epoch 105/200\n",
            "8/8 [==============================] - 0s 2ms/step - loss: 0.0318 - accuracy: 1.0000\n",
            "Epoch 106/200\n",
            "8/8 [==============================] - 0s 3ms/step - loss: 0.0057 - accuracy: 1.0000\n",
            "Epoch 107/200\n",
            "8/8 [==============================] - 0s 3ms/step - loss: 0.0291 - accuracy: 1.0000\n",
            "Epoch 108/200\n",
            "8/8 [==============================] - 0s 3ms/step - loss: 0.0103 - accuracy: 1.0000\n",
            "Epoch 109/200\n",
            "8/8 [==============================] - 0s 2ms/step - loss: 0.0043 - accuracy: 1.0000\n",
            "Epoch 110/200\n",
            "8/8 [==============================] - 0s 3ms/step - loss: 0.0223 - accuracy: 1.0000\n",
            "Epoch 111/200\n",
            "8/8 [==============================] - 0s 4ms/step - loss: 0.0122 - accuracy: 1.0000\n",
            "Epoch 112/200\n",
            "8/8 [==============================] - 0s 2ms/step - loss: 0.0616 - accuracy: 0.9368\n",
            "Epoch 113/200\n",
            "8/8 [==============================] - 0s 3ms/step - loss: 0.0043 - accuracy: 1.0000\n",
            "Epoch 114/200\n",
            "8/8 [==============================] - 0s 2ms/step - loss: 0.0156 - accuracy: 1.0000\n",
            "Epoch 115/200\n",
            "8/8 [==============================] - 0s 2ms/step - loss: 0.0285 - accuracy: 1.0000\n",
            "Epoch 116/200\n",
            "8/8 [==============================] - 0s 3ms/step - loss: 0.0103 - accuracy: 1.0000\n",
            "Epoch 117/200\n",
            "8/8 [==============================] - 0s 3ms/step - loss: 0.0528 - accuracy: 0.9944\n",
            "Epoch 118/200\n",
            "8/8 [==============================] - 0s 2ms/step - loss: 0.1770 - accuracy: 0.9590\n",
            "Epoch 119/200\n",
            "8/8 [==============================] - 0s 3ms/step - loss: 0.0087 - accuracy: 1.0000\n",
            "Epoch 120/200\n",
            "8/8 [==============================] - 0s 2ms/step - loss: 0.0067 - accuracy: 1.0000\n",
            "Epoch 121/200\n",
            "8/8 [==============================] - 0s 3ms/step - loss: 0.0244 - accuracy: 1.0000\n",
            "Epoch 122/200\n",
            "8/8 [==============================] - 0s 3ms/step - loss: 0.0093 - accuracy: 1.0000\n",
            "Epoch 123/200\n",
            "8/8 [==============================] - 0s 3ms/step - loss: 0.0208 - accuracy: 1.0000\n",
            "Epoch 124/200\n",
            "8/8 [==============================] - 0s 3ms/step - loss: 0.0055 - accuracy: 1.0000\n",
            "Epoch 125/200\n",
            "8/8 [==============================] - 0s 2ms/step - loss: 0.0159 - accuracy: 1.0000\n",
            "Epoch 126/200\n",
            "8/8 [==============================] - 0s 3ms/step - loss: 0.0302 - accuracy: 1.0000\n",
            "Epoch 127/200\n",
            "8/8 [==============================] - 0s 2ms/step - loss: 0.0162 - accuracy: 1.0000\n",
            "Epoch 128/200\n",
            "8/8 [==============================] - 0s 2ms/step - loss: 0.0394 - accuracy: 0.9702\n",
            "Epoch 129/200\n",
            "8/8 [==============================] - 0s 3ms/step - loss: 0.0025 - accuracy: 1.0000\n",
            "Epoch 130/200\n",
            "8/8 [==============================] - 0s 2ms/step - loss: 0.0186 - accuracy: 1.0000\n",
            "Epoch 131/200\n",
            "8/8 [==============================] - 0s 3ms/step - loss: 0.0124 - accuracy: 1.0000\n",
            "Epoch 132/200\n",
            "8/8 [==============================] - 0s 2ms/step - loss: 0.0049 - accuracy: 1.0000\n",
            "Epoch 133/200\n",
            "8/8 [==============================] - 0s 2ms/step - loss: 0.1208 - accuracy: 0.9590\n",
            "Epoch 134/200\n",
            "8/8 [==============================] - 0s 2ms/step - loss: 0.0135 - accuracy: 1.0000\n",
            "Epoch 135/200\n",
            "8/8 [==============================] - 0s 2ms/step - loss: 0.0291 - accuracy: 0.9944\n",
            "Epoch 136/200\n",
            "8/8 [==============================] - 0s 3ms/step - loss: 0.0141 - accuracy: 1.0000\n",
            "Epoch 137/200\n",
            "8/8 [==============================] - 0s 3ms/step - loss: 0.0077 - accuracy: 1.0000\n",
            "Epoch 138/200\n",
            "8/8 [==============================] - 0s 2ms/step - loss: 0.0282 - accuracy: 1.0000\n",
            "Epoch 139/200\n",
            "8/8 [==============================] - 0s 3ms/step - loss: 0.1004 - accuracy: 0.9368\n",
            "Epoch 140/200\n",
            "8/8 [==============================] - 0s 3ms/step - loss: 0.0068 - accuracy: 1.0000\n",
            "Epoch 141/200\n",
            "8/8 [==============================] - 0s 3ms/step - loss: 0.0264 - accuracy: 1.0000\n",
            "Epoch 142/200\n",
            "8/8 [==============================] - 0s 4ms/step - loss: 0.0099 - accuracy: 1.0000\n",
            "Epoch 143/200\n",
            "8/8 [==============================] - 0s 3ms/step - loss: 0.0070 - accuracy: 0.9944\n",
            "Epoch 144/200\n",
            "8/8 [==============================] - 0s 2ms/step - loss: 0.0112 - accuracy: 1.0000\n",
            "Epoch 145/200\n",
            "8/8 [==============================] - 0s 2ms/step - loss: 0.0117 - accuracy: 1.0000\n",
            "Epoch 146/200\n",
            "8/8 [==============================] - 0s 3ms/step - loss: 0.0243 - accuracy: 1.0000\n",
            "Epoch 147/200\n",
            "8/8 [==============================] - 0s 3ms/step - loss: 0.0052 - accuracy: 1.0000\n",
            "Epoch 148/200\n",
            "8/8 [==============================] - 0s 2ms/step - loss: 0.0444 - accuracy: 1.0000\n",
            "Epoch 149/200\n",
            "8/8 [==============================] - 0s 3ms/step - loss: 0.0130 - accuracy: 1.0000\n",
            "Epoch 150/200\n",
            "8/8 [==============================] - 0s 2ms/step - loss: 0.0197 - accuracy: 1.0000\n",
            "Epoch 151/200\n",
            "8/8 [==============================] - 0s 3ms/step - loss: 0.0514 - accuracy: 0.9944\n",
            "Epoch 152/200\n",
            "8/8 [==============================] - 0s 2ms/step - loss: 0.0040 - accuracy: 1.0000\n",
            "Epoch 153/200\n",
            "8/8 [==============================] - 0s 4ms/step - loss: 0.0338 - accuracy: 1.0000\n",
            "Epoch 154/200\n",
            "8/8 [==============================] - 0s 3ms/step - loss: 0.0256 - accuracy: 1.0000\n",
            "Epoch 155/200\n",
            "8/8 [==============================] - 0s 3ms/step - loss: 0.0121 - accuracy: 1.0000\n",
            "Epoch 156/200\n",
            "8/8 [==============================] - 0s 2ms/step - loss: 0.0241 - accuracy: 1.0000\n",
            "Epoch 157/200\n",
            "8/8 [==============================] - 0s 2ms/step - loss: 0.0045 - accuracy: 1.0000\n",
            "Epoch 158/200\n",
            "8/8 [==============================] - 0s 3ms/step - loss: 0.0159 - accuracy: 1.0000\n",
            "Epoch 159/200\n",
            "8/8 [==============================] - 0s 4ms/step - loss: 0.0196 - accuracy: 1.0000\n",
            "Epoch 160/200\n",
            "8/8 [==============================] - 0s 3ms/step - loss: 0.0640 - accuracy: 0.9776\n",
            "Epoch 161/200\n",
            "8/8 [==============================] - 0s 2ms/step - loss: 0.0081 - accuracy: 1.0000\n",
            "Epoch 162/200\n",
            "8/8 [==============================] - 0s 2ms/step - loss: 0.0069 - accuracy: 1.0000\n",
            "Epoch 163/200\n",
            "8/8 [==============================] - 0s 2ms/step - loss: 0.0068 - accuracy: 1.0000\n",
            "Epoch 164/200\n",
            "8/8 [==============================] - 0s 2ms/step - loss: 0.0044 - accuracy: 1.0000\n",
            "Epoch 165/200\n",
            "8/8 [==============================] - 0s 2ms/step - loss: 0.0404 - accuracy: 1.0000\n",
            "Epoch 166/200\n",
            "8/8 [==============================] - 0s 3ms/step - loss: 0.0074 - accuracy: 1.0000\n",
            "Epoch 167/200\n",
            "8/8 [==============================] - 0s 3ms/step - loss: 0.0087 - accuracy: 1.0000\n",
            "Epoch 168/200\n",
            "8/8 [==============================] - 0s 3ms/step - loss: 0.0051 - accuracy: 1.0000\n",
            "Epoch 169/200\n",
            "8/8 [==============================] - 0s 3ms/step - loss: 0.0215 - accuracy: 1.0000\n",
            "Epoch 170/200\n",
            "8/8 [==============================] - 0s 3ms/step - loss: 0.0185 - accuracy: 1.0000\n",
            "Epoch 171/200\n",
            "8/8 [==============================] - 0s 2ms/step - loss: 0.0121 - accuracy: 1.0000\n",
            "Epoch 172/200\n",
            "8/8 [==============================] - 0s 3ms/step - loss: 0.0132 - accuracy: 1.0000\n",
            "Epoch 173/200\n",
            "8/8 [==============================] - 0s 3ms/step - loss: 0.0236 - accuracy: 1.0000\n",
            "Epoch 174/200\n",
            "8/8 [==============================] - 0s 2ms/step - loss: 0.0095 - accuracy: 1.0000\n",
            "Epoch 175/200\n",
            "8/8 [==============================] - 0s 3ms/step - loss: 0.0083 - accuracy: 1.0000\n",
            "Epoch 176/200\n",
            "8/8 [==============================] - 0s 3ms/step - loss: 0.0583 - accuracy: 0.9368\n",
            "Epoch 177/200\n",
            "8/8 [==============================] - 0s 3ms/step - loss: 0.0141 - accuracy: 1.0000\n",
            "Epoch 178/200\n",
            "8/8 [==============================] - 0s 3ms/step - loss: 0.0089 - accuracy: 1.0000\n",
            "Epoch 179/200\n",
            "8/8 [==============================] - 0s 3ms/step - loss: 0.0064 - accuracy: 1.0000\n",
            "Epoch 180/200\n",
            "8/8 [==============================] - 0s 3ms/step - loss: 0.0040 - accuracy: 1.0000\n",
            "Epoch 181/200\n",
            "8/8 [==============================] - 0s 3ms/step - loss: 0.0176 - accuracy: 1.0000\n",
            "Epoch 182/200\n",
            "8/8 [==============================] - 0s 2ms/step - loss: 0.0100 - accuracy: 1.0000\n",
            "Epoch 183/200\n",
            "8/8 [==============================] - 0s 2ms/step - loss: 0.0208 - accuracy: 1.0000\n",
            "Epoch 184/200\n",
            "8/8 [==============================] - 0s 3ms/step - loss: 0.0187 - accuracy: 1.0000\n",
            "Epoch 185/200\n",
            "8/8 [==============================] - 0s 2ms/step - loss: 0.0284 - accuracy: 0.9776\n",
            "Epoch 186/200\n",
            "8/8 [==============================] - 0s 2ms/step - loss: 0.0553 - accuracy: 0.9590\n",
            "Epoch 187/200\n",
            "8/8 [==============================] - 0s 3ms/step - loss: 0.0061 - accuracy: 1.0000\n",
            "Epoch 188/200\n",
            "8/8 [==============================] - 0s 4ms/step - loss: 0.0034 - accuracy: 1.0000\n",
            "Epoch 189/200\n",
            "8/8 [==============================] - 0s 3ms/step - loss: 0.0071 - accuracy: 1.0000\n",
            "Epoch 190/200\n",
            "8/8 [==============================] - 0s 3ms/step - loss: 0.0027 - accuracy: 1.0000\n",
            "Epoch 191/200\n",
            "8/8 [==============================] - 0s 3ms/step - loss: 0.0272 - accuracy: 1.0000\n",
            "Epoch 192/200\n",
            "8/8 [==============================] - 0s 3ms/step - loss: 0.0026 - accuracy: 1.0000\n",
            "Epoch 193/200\n",
            "8/8 [==============================] - 0s 3ms/step - loss: 0.0067 - accuracy: 1.0000\n",
            "Epoch 194/200\n",
            "8/8 [==============================] - 0s 2ms/step - loss: 0.0123 - accuracy: 1.0000\n",
            "Epoch 195/200\n",
            "8/8 [==============================] - 0s 3ms/step - loss: 0.0070 - accuracy: 1.0000\n",
            "Epoch 196/200\n",
            "8/8 [==============================] - 0s 3ms/step - loss: 0.0016 - accuracy: 1.0000\n",
            "Epoch 197/200\n",
            "8/8 [==============================] - 0s 4ms/step - loss: 0.0133 - accuracy: 1.0000\n",
            "Epoch 198/200\n",
            "8/8 [==============================] - 0s 3ms/step - loss: 0.0137 - accuracy: 1.0000\n",
            "Epoch 199/200\n",
            "8/8 [==============================] - 0s 3ms/step - loss: 0.0067 - accuracy: 1.0000\n",
            "Epoch 200/200\n",
            "8/8 [==============================] - 0s 2ms/step - loss: 0.0054 - accuracy: 1.0000\n"
          ],
          "name": "stdout"
        },
        {
          "output_type": "execute_result",
          "data": {
            "text/plain": [
              "<tensorflow.python.keras.callbacks.History at 0x7fcc600cb790>"
            ]
          },
          "metadata": {
            "tags": []
          },
          "execution_count": 12
        }
      ]
    },
    {
      "cell_type": "markdown",
      "metadata": {
        "id": "XUfPFRw-1U3k"
      },
      "source": [
        "## Testing"
      ]
    },
    {
      "cell_type": "code",
      "metadata": {
        "id": "oIl5yY4iuI1U"
      },
      "source": [
        "def clean_up_sentence(sentence):\n",
        "    # tokenize the pattern - split words into array\n",
        "    sentence_words = nltk.word_tokenize(sentence)\n",
        "    # stem each word - create short form for word\n",
        "    sentence_words = [stemmer.stem(word.lower()) for word in sentence_words]\n",
        "    return sentence_words\n",
        "\n",
        "# return bag of words array: 0 or 1 for each word in the bag that exists in the sentence\n",
        "def bow(sentence, words, show_details=True):\n",
        "    # tokenize the pattern\n",
        "    sentence_words = clean_up_sentence(sentence)\n",
        "    # bag of words - matrix of N words, vocabulary matrix\n",
        "    bag = [0]*len(words)  \n",
        "    for s in sentence_words:\n",
        "        for i,w in enumerate(words):\n",
        "            if w == s: \n",
        "                # assign 1 if current word is in the vocabulary position\n",
        "                bag[i] = 1\n",
        "                if show_details:\n",
        "                    print ('found in bag: %s' % w)\n",
        "\n",
        "    return(np.array(bag))"
      ],
      "execution_count": null,
      "outputs": []
    },
    {
      "cell_type": "code",
      "metadata": {
        "id": "t9DHYg31uI1Y",
        "colab": {
          "base_uri": "https://localhost:8080/"
        },
        "outputId": "e12a8cc5-6a67-4486-9452-641cef7ca6db"
      },
      "source": [
        "p = bow('Assalomu aleykum, yaxshimisiz', words)\n",
        "print(p)\n",
        "print(classes)"
      ],
      "execution_count": null,
      "outputs": [
        {
          "output_type": "stream",
          "text": [
            "found in bag: assalomu\n",
            "found in bag: aleyk\n",
            "[0 1 0 1 0 0 0 0 0 0 0 0 0 0 0 0 0 0 0 0 0 0 0 0 0 0 0 0 0 0 0 0 0 0 0 0 0\n",
            " 0 0 0 0 0 0 0 0 0 0 0 0 0 0 0 0 0 0 0 0 0 0 0 0 0 0 0 0 0]\n",
            "['kim_san', 'qonun_buzarlikni_yuklash', 'rahmat', 'rezyume_yuborish', 'salom', 'xayr']\n"
          ],
          "name": "stdout"
        }
      ]
    },
    {
      "cell_type": "code",
      "metadata": {
        "id": "Xt_GEjoLuI1c",
        "colab": {
          "base_uri": "https://localhost:8080/"
        },
        "outputId": "0b1be691-7e88-45da-8b02-31db23060792"
      },
      "source": [
        "inputvar = pd.DataFrame([p], dtype=float, index=['input'])\n",
        "\n",
        "print(model.predict(inputvar))"
      ],
      "execution_count": null,
      "outputs": [
        {
          "output_type": "stream",
          "text": [
            "[[2.5724632e-06 2.4721710e-06 9.0833882e-06 1.0854361e-05 9.9996459e-01\n",
            "  1.0412777e-05]]\n"
          ],
          "name": "stdout"
        }
      ]
    },
    {
      "cell_type": "markdown",
      "metadata": {
        "id": "bBXqXdZD1dv0"
      },
      "source": [
        "## Save model"
      ]
    },
    {
      "cell_type": "code",
      "metadata": {
        "id": "ZoTDDRExMt0S"
      },
      "source": [
        "# Save model\n",
        "with open('/content/drive/MyDrive/Colab Notebooks/chatbot-uz/model/chatbot-model.pkl', 'wb') as f:\n",
        "  pickle.dump(model, f)"
      ],
      "execution_count": null,
      "outputs": []
    },
    {
      "cell_type": "code",
      "metadata": {
        "id": "CE47wbIVuI1m"
      },
      "source": [
        "# save all of our data structures\n",
        "pickle.dump({'words':words, 'classes':classes, 'train_x':train_x, 'train_y':train_y}, open('/content/drive/MyDrive/Colab Notebooks/chatbot-uz/model/chatbot-data.pkl', 'wb'))"
      ],
      "execution_count": null,
      "outputs": []
    },
    {
      "cell_type": "code",
      "metadata": {
        "id": "Ooi7roIVuI1q"
      },
      "source": [
        ""
      ],
      "execution_count": null,
      "outputs": []
    }
  ]
}